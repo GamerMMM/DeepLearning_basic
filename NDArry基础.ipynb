{
 "cells": [
  {
   "cell_type": "code",
   "execution_count": 1,
   "id": "4e654954",
   "metadata": {
    "pycharm": {
     "is_executing": true
    }
   },
   "outputs": [],
   "source": [
    "from mxnet import nd #导入ndarry库"
   ]
  },
  {
   "cell_type": "markdown",
   "id": "0d2c4659",
   "metadata": {},
   "source": [
    "# 数据操作\n",
    "## 创建"
   ]
  },
  {
   "cell_type": "code",
   "execution_count": 2,
   "id": "fa971ed3",
   "metadata": {},
   "outputs": [
    {
     "data": {
      "text/plain": [
       "\n",
       "[ 0.  1.  2.  3.  4.  5.  6.  7.  8.  9. 10. 11.]\n",
       "<NDArray 12 @cpu(0)>"
      ]
     },
     "execution_count": 2,
     "metadata": {},
     "output_type": "execute_result"
    }
   ],
   "source": [
    "x = nd.arange(12)#创建行向量 打印出来显示一维数组 \n",
    "x "
   ]
  },
  {
   "cell_type": "code",
   "execution_count": 3,
   "id": "aec5db8a",
   "metadata": {},
   "outputs": [
    {
     "data": {
      "text/plain": [
       "(12,)"
      ]
     },
     "execution_count": 3,
     "metadata": {},
     "output_type": "execute_result"
    }
   ],
   "source": [
    "x.shape #获取NDArry实例的形状"
   ]
  },
  {
   "cell_type": "code",
   "execution_count": 4,
   "id": "fa7c07d0",
   "metadata": {},
   "outputs": [
    {
     "data": {
      "text/plain": [
       "12"
      ]
     },
     "execution_count": 4,
     "metadata": {},
     "output_type": "execute_result"
    }
   ],
   "source": [
    "x.size #获取元素总数"
   ]
  },
  {
   "cell_type": "code",
   "execution_count": 5,
   "id": "76d3eb45",
   "metadata": {},
   "outputs": [
    {
     "data": {
      "text/plain": [
       "\n",
       "[[ 0.  1.  2.  3.]\n",
       " [ 4.  5.  6.  7.]\n",
       " [ 8.  9. 10. 11.]]\n",
       "<NDArray 3x4 @cpu(0)>"
      ]
     },
     "execution_count": 5,
     "metadata": {},
     "output_type": "execute_result"
    }
   ],
   "source": [
    "X = x.reshape((3,4)) #三行四列\n",
    "# X = x.reshape((3,-1)) \n",
    "X"
   ]
  },
  {
   "cell_type": "code",
   "execution_count": 6,
   "id": "7116bfd6",
   "metadata": {},
   "outputs": [
    {
     "data": {
      "text/plain": [
       "\n",
       "[[[0. 0. 0. 0.]\n",
       "  [0. 0. 0. 0.]\n",
       "  [0. 0. 0. 0.]]\n",
       "\n",
       " [[0. 0. 0. 0.]\n",
       "  [0. 0. 0. 0.]\n",
       "  [0. 0. 0. 0.]]]\n",
       "<NDArray 2x3x4 @cpu(0)>"
      ]
     },
     "execution_count": 6,
     "metadata": {},
     "output_type": "execute_result"
    }
   ],
   "source": [
    "nd.zeros((2,3,4)) # nd.ones((2,3,4))"
   ]
  },
  {
   "cell_type": "code",
   "execution_count": 7,
   "id": "15d547ba",
   "metadata": {},
   "outputs": [
    {
     "data": {
      "text/plain": [
       "\n",
       "[[2. 1. 4. 3.]\n",
       " [1. 2. 3. 4.]\n",
       " [4. 3. 2. 1.]]\n",
       "<NDArray 3x4 @cpu(0)>"
      ]
     },
     "execution_count": 7,
     "metadata": {},
     "output_type": "execute_result"
    }
   ],
   "source": [
    "Y = nd.array([[2,1,4,3],[1,2,3,4,],[4,3,2,1]])\n",
    "Y"
   ]
  },
  {
   "cell_type": "code",
   "execution_count": 8,
   "id": "82b00724",
   "metadata": {},
   "outputs": [
    {
     "data": {
      "text/plain": [
       "\n",
       "[[ 1.1630785   0.4838046   0.29956347  0.15302546]\n",
       " [-1.1688148   1.558071   -0.5459446  -2.3556297 ]\n",
       " [ 0.54144025  2.6785064   1.2546344  -0.54877406]]\n",
       "<NDArray 3x4 @cpu(0)>"
      ]
     },
     "execution_count": 8,
     "metadata": {},
     "output_type": "execute_result"
    }
   ],
   "source": [
    "nd.random.normal(0,1,shape=(3,4))\n",
    "#每个元素随机采样于均值为0、标准差为1的正态分布"
   ]
  },
  {
   "cell_type": "markdown",
   "id": "e13879ba",
   "metadata": {},
   "source": [
    "## operator\n",
    "### 按元素计算\n",
    "X+Y,X*Y,X/Y..."
   ]
  },
  {
   "cell_type": "code",
   "execution_count": 9,
   "id": "86a58914",
   "metadata": {},
   "outputs": [
    {
     "data": {
      "text/plain": [
       "\n",
       "[[ 7.389056   2.7182817 54.59815   20.085537 ]\n",
       " [ 2.7182817  7.389056  20.085537  54.59815  ]\n",
       " [54.59815   20.085537   7.389056   2.7182817]]\n",
       "<NDArray 3x4 @cpu(0)>"
      ]
     },
     "execution_count": 9,
     "metadata": {},
     "output_type": "execute_result"
    }
   ],
   "source": [
    "Y.exp() #按元素做指数运算"
   ]
  },
  {
   "cell_type": "markdown",
   "id": "dafc1a7c",
   "metadata": {},
   "source": [
    "### 矩阵操作"
   ]
  },
  {
   "cell_type": "code",
   "execution_count": 10,
   "id": "facbb62f",
   "metadata": {},
   "outputs": [
    {
     "data": {
      "text/plain": [
       "\n",
       "[[ 18.  20.  10.]\n",
       " [ 58.  60.  50.]\n",
       " [ 98. 100.  90.]]\n",
       "<NDArray 3x3 @cpu(0)>"
      ]
     },
     "execution_count": 10,
     "metadata": {},
     "output_type": "execute_result"
    }
   ],
   "source": [
    "nd.dot(X,Y.T)"
   ]
  },
  {
   "cell_type": "code",
   "execution_count": 11,
   "id": "bc0b612d",
   "metadata": {},
   "outputs": [
    {
     "data": {
      "text/plain": [
       "(\n",
       " [[ 0.  1.  2.  3.]\n",
       "  [ 4.  5.  6.  7.]\n",
       "  [ 8.  9. 10. 11.]\n",
       "  [ 2.  1.  4.  3.]\n",
       "  [ 1.  2.  3.  4.]\n",
       "  [ 4.  3.  2.  1.]]\n",
       " <NDArray 6x4 @cpu(0)>,\n",
       " \n",
       " [[ 0.  1.  2.  3.  2.  1.  4.  3.]\n",
       "  [ 4.  5.  6.  7.  1.  2.  3.  4.]\n",
       "  [ 8.  9. 10. 11.  4.  3.  2.  1.]]\n",
       " <NDArray 3x8 @cpu(0)>)"
      ]
     },
     "execution_count": 11,
     "metadata": {},
     "output_type": "execute_result"
    }
   ],
   "source": [
    "nd.concat(X,Y,dim=0),nd.concat(X,Y,dim=1)\n",
    "#矩阵的联结(concatenate)，其中dim规定联结的维度，0行1列"
   ]
  },
  {
   "cell_type": "code",
   "execution_count": 12,
   "id": "15c60ea6",
   "metadata": {},
   "outputs": [
    {
     "data": {
      "text/plain": [
       "\n",
       "[[0. 1. 0. 1.]\n",
       " [0. 0. 0. 0.]\n",
       " [0. 0. 0. 0.]]\n",
       "<NDArray 3x4 @cpu(0)>"
      ]
     },
     "execution_count": 12,
     "metadata": {},
     "output_type": "execute_result"
    }
   ],
   "source": [
    "X == Y #条件判断式，相当于&&"
   ]
  },
  {
   "cell_type": "code",
   "execution_count": 13,
   "id": "4416afc9",
   "metadata": {},
   "outputs": [
    {
     "data": {
      "text/plain": [
       "\n",
       "[66.]\n",
       "<NDArray 1 @cpu(0)>"
      ]
     },
     "execution_count": 13,
     "metadata": {},
     "output_type": "execute_result"
    }
   ],
   "source": [
    "X.sum()"
   ]
  },
  {
   "cell_type": "code",
   "execution_count": 14,
   "id": "08979250",
   "metadata": {},
   "outputs": [
    {
     "data": {
      "text/plain": [
       "22.494442"
      ]
     },
     "execution_count": 14,
     "metadata": {},
     "output_type": "execute_result"
    }
   ],
   "source": [
    "X.norm().asscalar()\n",
    "#通过asscalar函数将结果变换为Python中的标量（好像是浮点数）。本例中X的L2范数结果同上例一样是单元素nd矩阵，但是最后结果变成了标量"
   ]
  },
  {
   "cell_type": "markdown",
   "id": "52e00269",
   "metadata": {},
   "source": [
    "## 广播机制\n",
    "先适当复制(一般为整行整列地复制)元素，使的两个矩阵相同，再按照元素运算。"
   ]
  },
  {
   "cell_type": "code",
   "execution_count": 15,
   "id": "9e5eec63",
   "metadata": {},
   "outputs": [
    {
     "data": {
      "text/plain": [
       "(\n",
       " [[0.]\n",
       "  [1.]\n",
       "  [2.]]\n",
       " <NDArray 3x1 @cpu(0)>,\n",
       " \n",
       " [[0. 1.]]\n",
       " <NDArray 1x2 @cpu(0)>)"
      ]
     },
     "execution_count": 15,
     "metadata": {},
     "output_type": "execute_result"
    }
   ],
   "source": [
    "A = nd.arange(3).reshape((3,1))\n",
    "B = nd.arange(2).reshape((1,2))\n",
    "A,B"
   ]
  },
  {
   "cell_type": "code",
   "execution_count": 16,
   "id": "7f341173",
   "metadata": {},
   "outputs": [
    {
     "data": {
      "text/plain": [
       "\n",
       "[[0. 1.]\n",
       " [1. 2.]\n",
       " [2. 3.]]\n",
       "<NDArray 3x2 @cpu(0)>"
      ]
     },
     "execution_count": 16,
     "metadata": {},
     "output_type": "execute_result"
    }
   ],
   "source": [
    "A+B"
   ]
  },
  {
   "cell_type": "markdown",
   "id": "5ff1798d",
   "metadata": {},
   "source": [
    "## 索引（index）\n",
    "1. 代表了元素的位置\n",
    "2. （每个维度地索引）从0起逐一递增\n",
    "3. 左闭右开"
   ]
  },
  {
   "cell_type": "code",
   "execution_count": 17,
   "id": "4dd0e775",
   "metadata": {},
   "outputs": [
    {
     "data": {
      "text/plain": [
       "\n",
       "[[ 4.  5.  6.  7.]\n",
       " [ 8.  9. 10. 11.]]\n",
       "<NDArray 2x4 @cpu(0)>"
      ]
     },
     "execution_count": 17,
     "metadata": {},
     "output_type": "execute_result"
    }
   ],
   "source": [
    "X[1:3] #只是对行索引，维度之间用逗号分隔，后边可以省略"
   ]
  },
  {
   "cell_type": "code",
   "execution_count": 18,
   "id": "87abf87f",
   "metadata": {},
   "outputs": [
    {
     "data": {
      "text/plain": [
       "\n",
       "[[ 0.  1.  2.  3.]\n",
       " [ 4.  5.  9.  7.]\n",
       " [ 8.  9. 10. 11.]]\n",
       "<NDArray 3x4 @cpu(0)>"
      ]
     },
     "execution_count": 18,
     "metadata": {},
     "output_type": "execute_result"
    }
   ],
   "source": [
    "X[1,2] = 9\n",
    "X #访问单个元素地位置并给该元素赋值"
   ]
  },
  {
   "cell_type": "code",
   "execution_count": 19,
   "id": "3c0e7086",
   "metadata": {},
   "outputs": [
    {
     "data": {
      "text/plain": [
       "\n",
       "[[ 0.  1.  2.  3.]\n",
       " [12. 12. 12. 12.]\n",
       " [ 8.  9. 10. 11.]]\n",
       "<NDArray 3x4 @cpu(0)>"
      ]
     },
     "execution_count": 19,
     "metadata": {},
     "output_type": "execute_result"
    }
   ],
   "source": [
    "X[1] = 12 \n",
    "X #给所有行索引为1的元素复制 可记为 X[1:2,:] = 12"
   ]
  },
  {
   "cell_type": "markdown",
   "id": "cf06a7a5",
   "metadata": {},
   "source": [
    "## 运算的内存开销\n",
    "`id()`可以显示出实例的位置，从而看出运算结果是否指向新的内存\n",
    "前面的所有例子，对每个操作新开内存存储运算结果。"
   ]
  },
  {
   "cell_type": "code",
   "execution_count": 20,
   "id": "a037e651",
   "metadata": {},
   "outputs": [
    {
     "data": {
      "text/plain": [
       "False"
      ]
     },
     "execution_count": 20,
     "metadata": {},
     "output_type": "execute_result"
    }
   ],
   "source": [
    "before = id(Y)\n",
    "Y = Y + X\n",
    "id(Y) == before"
   ]
  },
  {
   "cell_type": "markdown",
   "id": "9e32ec85",
   "metadata": {},
   "source": [
    "如果想指定结果写入特定内存，可以使用索引来进行替换操作。\n",
    "下例实际上是为`X + Y`开了临时内存之后又复制Z到对应的内存。"
   ]
  },
  {
   "cell_type": "code",
   "execution_count": 21,
   "id": "7b1693b6",
   "metadata": {},
   "outputs": [
    {
     "data": {
      "text/plain": [
       "True"
      ]
     },
     "execution_count": 21,
     "metadata": {},
     "output_type": "execute_result"
    }
   ],
   "source": [
    "Z = Y.zeros_like() # 创建一个和Y形状相同但元素全为0的矩阵\n",
    "before = id(Z) # 取个地址\n",
    "Z[:] = X + Y #属于赋值，所以不会\n",
    "id(Z) == before"
   ]
  },
  {
   "cell_type": "markdown",
   "id": "6947da25",
   "metadata": {},
   "source": [
    "避免临时内存消耗：\n",
    "1. 使用运算符全名函数中的`out`参数,可以直接指定结果存储的内存。\n",
    "2. 如果X的值在之后的程序中不会复用，我们也可以用`X[:] = X + Y`or`X += Y`来减少内存开销（可以理解为逐一改变X的值）"
   ]
  },
  {
   "cell_type": "code",
   "execution_count": 22,
   "id": "d22f36a5",
   "metadata": {},
   "outputs": [
    {
     "data": {
      "text/plain": [
       "True"
      ]
     },
     "execution_count": 22,
     "metadata": {},
     "output_type": "execute_result"
    }
   ],
   "source": [
    "nd.elemwise_add(X,Y,out=Z)\n",
    "id(Z) == before"
   ]
  },
  {
   "cell_type": "markdown",
   "id": "1d2c6b9c",
   "metadata": {},
   "source": [
    "## NDArry和Numpy相互变换\n",
    "通过`array`和`asnumpy`令数据在两个格式之间相互变换"
   ]
  },
  {
   "cell_type": "code",
   "execution_count": 23,
   "id": "3079fc4a",
   "metadata": {},
   "outputs": [
    {
     "data": {
      "text/plain": [
       "\n",
       "[[1. 1. 1.]\n",
       " [1. 1. 1.]]\n",
       "<NDArray 2x3 @cpu(0)>"
      ]
     },
     "execution_count": 23,
     "metadata": {},
     "output_type": "execute_result"
    }
   ],
   "source": [
    "import numpy as np\n",
    "P = np.ones((2,3))\n",
    "D = nd.array(P) #把np矩阵变为nd矩阵用的是变化后的类型的包\n",
    "D"
   ]
  },
  {
   "cell_type": "code",
   "execution_count": 24,
   "id": "b4655147",
   "metadata": {},
   "outputs": [
    {
     "data": {
      "text/plain": [
       "array([[1., 1., 1.],\n",
       "       [1., 1., 1.]], dtype=float32)"
      ]
     },
     "execution_count": 24,
     "metadata": {},
     "output_type": "execute_result"
    }
   ],
   "source": [
    "D.asnumpy() #注意这里是输出D的np矩阵形式，并不是把D变成np矩阵"
   ]
  },
  {
   "cell_type": "markdown",
   "id": "e5bf3f6b",
   "metadata": {},
   "source": [
    "# 自动求梯度\n",
    "梯度gradient"
   ]
  },
  {
   "cell_type": "markdown",
   "id": "1f020073",
   "metadata": {},
   "source": [
    "* `MXNet`提供`autograd` 模块来自动化求导；\n",
    "* `MXNet`的`autograd`模块可以对一般的命令式程序进行求导；\n",
    "* `MXNet`的运行模式包括训练模式和预测模式，我们可以通过`autograd.istraining()`来判断运行模式；"
   ]
  },
  {
   "cell_type": "code",
   "execution_count": 25,
   "id": "5eb3c547",
   "metadata": {},
   "outputs": [],
   "source": [
    "from mxnet import autograd,nd"
   ]
  },
  {
   "cell_type": "markdown",
   "id": "112af524",
   "metadata": {},
   "source": [
    "## 简单例子\n",
    "对函数$y=2x^Tx$求关于列向量x的梯度。\n",
    "1. 首先创建变量x并初始化："
   ]
  },
  {
   "cell_type": "code",
   "execution_count": 26,
   "id": "be3ad7d7",
   "metadata": {},
   "outputs": [
    {
     "data": {
      "text/plain": [
       "\n",
       "[[0.]\n",
       " [1.]\n",
       " [2.]\n",
       " [3.]]\n",
       "<NDArray 4x1 @cpu(0)>"
      ]
     },
     "execution_count": 26,
     "metadata": {},
     "output_type": "execute_result"
    }
   ],
   "source": [
    "x = nd.arange(4).reshape((4,1))\n",
    "x"
   ]
  },
  {
   "cell_type": "markdown",
   "id": "c5dc9e3e",
   "metadata": {},
   "source": [
    "2. 调用`attach_grad`函数来申请存储梯度所需要的内存"
   ]
  },
  {
   "cell_type": "code",
   "execution_count": 27,
   "id": "aa8a2156",
   "metadata": {},
   "outputs": [],
   "source": [
    "x.attach_grad()"
   ]
  },
  {
   "cell_type": "markdown",
   "id": "3ec4496c",
   "metadata": {},
   "source": [
    "3. 定义有关变量x的函数，并调用`record`函数来要求`MXNet`记录与梯度有关的计算。（默认条件下不会记录梯度计算）"
   ]
  },
  {
   "cell_type": "code",
   "execution_count": 28,
   "id": "ed510d35",
   "metadata": {},
   "outputs": [],
   "source": [
    "with autograd.record():\n",
    "    y = 2 * nd.dot(x.T,x) #注意是矩阵乘法，y是一个标量"
   ]
  },
  {
   "cell_type": "markdown",
   "id": "2b643912",
   "metadata": {},
   "source": [
    "4. 调用`backward`函数自动求梯度\n",
    "* 如果y是矩阵，即y不是一个标量，`MXNet`将默认先对y中元素求和得到新的变量，再求该变量有关x的梯度。"
   ]
  },
  {
   "cell_type": "code",
   "execution_count": 29,
   "id": "491d4dc6",
   "metadata": {},
   "outputs": [],
   "source": [
    "y.backward()"
   ]
  },
  {
   "cell_type": "markdown",
   "id": "9b744a95",
   "metadata": {},
   "source": [
    "函数$y = 2x^Tx$关于$x$的梯度应该为$4x$，验证梯度正确：\n",
    "* `assert`：断言函数，测试表达式，用于判断程序是否会出现异常。如果把`assert`删掉会发现输出变成`Flase`.\n",
    "* 用法：\n",
    "```\n",
    "assert expression [, arguments]\n",
    "```\n",
    "expression：表示要检测的表达式;\n",
    "arguments：给出报错提示;\n",
    "```ruby\n",
    ">>> assert 1==2，'不相等'\n",
    "  File \"<stdin>\", line 1  # 报出异常，并给出提示信息\n",
    "    assert 1==2，'不相等'\n",
    ">>> assert 1==1，'不相等'  # 继续往下执行\n",
    "# 类似于：\n",
    "if not expression： # 判断表达式是否征程\n",
    "    raise AssertionError(arguments)  # 抛出异常\n",
    "```"
   ]
  },
  {
   "cell_type": "code",
   "execution_count": 30,
   "id": "2b90a796",
   "metadata": {},
   "outputs": [
    {
     "data": {
      "text/plain": [
       "\n",
       "[[ 0.]\n",
       " [ 4.]\n",
       " [ 8.]\n",
       " [12.]]\n",
       "<NDArray 4x1 @cpu(0)>"
      ]
     },
     "execution_count": 30,
     "metadata": {},
     "output_type": "execute_result"
    }
   ],
   "source": [
    "assert(x.grad - 4 * x).norm().asscalar() == 0 #norm是一个求范数的函数，我也不知道啥意思（）\n",
    "x.grad # 输出矩阵的梯度（？）不太懂"
   ]
  },
  {
   "cell_type": "markdown",
   "id": "9667bbf3",
   "metadata": {},
   "source": [
    "## 训练模式与预测模式\n",
    "`autograd`会将运行模式从预测模式转为训练模式，可以通过调用`is_training`函数查看(因为在有些情况下同一个模型在训练模式和预测模式下的行为并不相同)"
   ]
  },
  {
   "cell_type": "code",
   "execution_count": 31,
   "id": "1eac0992",
   "metadata": {},
   "outputs": [
    {
     "name": "stdout",
     "output_type": "stream",
     "text": [
      "False\n",
      "True\n"
     ]
    }
   ],
   "source": [
    "print(autograd.is_training())\n",
    "with autograd.record():\n",
    "    print(autograd.is_training())"
   ]
  },
  {
   "cell_type": "markdown",
   "id": "7c46dcee",
   "metadata": {},
   "source": [
    "## 对Python控制流求梯度\n",
    "使用MXNet的一个便利之处是，即使函数的计算过程包含了Python的控制流（如条件控制循环控制），我们也有可能对变量求梯度。\n"
   ]
  },
  {
   "cell_type": "markdown",
   "id": "31f0e07e",
   "metadata": {},
   "source": [
    "比方说，下面程序包含这两种控制流，不过循环迭代次数以及if语句的执行都取决于a的值。"
   ]
  },
  {
   "cell_type": "code",
   "execution_count": 32,
   "id": "1811b09b",
   "metadata": {},
   "outputs": [],
   "source": [
    "def f(a):\n",
    "    b = a * 2\n",
    "    while b.norm().asscalar() < 1000:\n",
    "        b = b * 2\n",
    "    if b.sum().asscalar() > 0: # sum函数可以对列表、各种数据类型（可混合）以及参数（用range（x,y））求和\n",
    "        c = B\n",
    "    else :\n",
    "        c = 100 * b \n",
    "    return c"
   ]
  },
  {
   "cell_type": "markdown",
   "id": "1a37d8ed",
   "metadata": {},
   "source": [
    "### `sum`用法补充：\n",
    "标准形式：`sum(iterable[, start])`；"
   ]
  },
  {
   "cell_type": "markdown",
   "id": "1e9f8085",
   "metadata": {},
   "source": [
    "`lterable`:可迭代对象（列表list、元组tuple、集合set、字典dictionary...）"
   ]
  },
  {
   "cell_type": "markdown",
   "id": "e7c797b1",
   "metadata": {},
   "source": [
    "`start`:指定相加的参数，如果没有这个值，默认是0."
   ]
  },
  {
   "cell_type": "markdown",
   "id": "ecd930b2",
   "metadata": {},
   "source": [
    "也就是说`sum()`结果=可迭代对象里边数的和（字典是key值相加） + start的值，如果没写就默认是0\n",
    "```ruby\n",
    ">>> sum = sum([1,2,3],5)          #in list +start\n",
    "11\n",
    ">>> sum = sum((1,2,3))            #in tuple\n",
    "6\n",
    ">>> sum = sum({1,2,3})            #in set\n",
    "6\n",
    ">>> sum = sum({1:5,2:6,3:7})      #in dictionary key\n",
    "6\n",
    ">>>sum = sum([1,2,3])             # in list\n",
    "6\n",
    "1\n",
    "2\n",
    "```"
   ]
  },
  {
   "cell_type": "markdown",
   "id": "af950f37",
   "metadata": {},
   "source": [
    "以及，给定任意输入a，输出必然是f(a) = x * a的形式，其中标量系数x的值取决于输入a。由于c = f(a)有关a的梯度为x，且值为c/a，我们可以如下验证对本例中控制流求梯度结果的正确性。"
   ]
  },
  {
   "cell_type": "markdown",
   "id": "c2bb4b85",
   "metadata": {},
   "source": [
    "像之前一样使用`record`函数计算，并调用`backward`函数求梯度。"
   ]
  },
  {
   "cell_type": "code",
   "execution_count": 33,
   "id": "0037aada",
   "metadata": {},
   "outputs": [
    {
     "data": {
      "text/plain": [
       "\n",
       "[1.]\n",
       "<NDArray 1 @cpu(0)>"
      ]
     },
     "execution_count": 33,
     "metadata": {},
     "output_type": "execute_result"
    }
   ],
   "source": [
    "a = nd.random.normal(shape=1) \n",
    "a.attach_grad()\n",
    "with autograd.record():\n",
    "    c = f(a)\n",
    "c.backward()\n",
    "a.grad == c/a"
   ]
  },
  {
   "cell_type": "markdown",
   "id": "89960b60",
   "metadata": {},
   "source": [
    "### normal()分析：\n",
    "在本例中`random.normal()`是生成一个随机的正态分布函数，其中`normal`表正态。"
   ]
  },
  {
   "cell_type": "markdown",
   "id": "3283cc59",
   "metadata": {},
   "source": [
    "`loc:`正态分布的均值，对应这个分布的中心，代表$\\mu$;"
   ]
  },
  {
   "cell_type": "markdown",
   "id": "4db2881f",
   "metadata": {},
   "source": [
    "`scale`:正态分布的标准差，对应分布的宽度，越大越矮胖，越小越高瘦，代表$\\sigma$;"
   ]
  },
  {
   "cell_type": "markdown",
   "id": "d06aa4a3",
   "metadata": {},
   "source": [
    "`size`:你输入数据的shape;"
   ]
  },
  {
   "cell_type": "markdown",
   "id": "40b33f8f",
   "metadata": {},
   "source": [
    "# 查阅文档\n",
    "## 查找模块里所有的函数和类\n",
    "```ruby\n",
    "from mxnet import nd\n",
    "print(dir(nd.random))#查找模块中的函数\n",
    "```\n",
    "我们可以忽略由__开头和结尾的特别对象函数或者由_开头的内部函数\n",
    "## 查找特定函数或类的使用\n",
    "了解某个函数或类的具体用法：\n",
    "```ruby\n",
    "help(nd.ones_like)\n",
    "```\n",
    "显示在额外窗口：\n",
    "```ruby\n",
    "nd.random.uniform?\n",
    "```\n",
    "额外显示该函数的实现代码：\n",
    "```ruby\n",
    "nd.random.uniform??\n",
    "```\n",
    "在官网上，点击顶部“API”可以查阅各个前端语言的接口"
   ]
  }
 ],
 "metadata": {
  "kernelspec": {
   "display_name": "Python 3 (ipykernel)",
   "language": "python",
   "name": "python3"
  },
  "language_info": {
   "codemirror_mode": {
    "name": "ipython",
    "version": 3
   },
   "file_extension": ".py",
   "mimetype": "text/x-python",
   "name": "python",
   "nbconvert_exporter": "python",
   "pygments_lexer": "ipython3",
   "version": "3.6.13"
  }
 },
 "nbformat": 4,
 "nbformat_minor": 5
}
